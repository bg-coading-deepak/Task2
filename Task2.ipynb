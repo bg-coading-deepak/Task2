{
 "cells": [
  {
   "cell_type": "markdown",
   "id": "eb14465d-0c11-49da-b43e-32f3f068bd06",
   "metadata": {},
   "source": [
    "Q1. You are writing code for a company. The requirement of the company is that you create a python\n",
    "function that will check whether the password entered by the user is correct or not. The function should\n",
    "take the password as input and return the string “Valid Password” if the entered password follows the\n",
    "below-given password guidelines else it should return “Invalid Password”.\n",
    "Note: 1. The Password should contain at least two uppercase letters and at least two lowercase letters.\n",
    "2. The Password should contain at least a number and three special characters.\n",
    "3. The length of the password should be 10 characters long."
   ]
  },
  {
   "cell_type": "code",
   "execution_count": 1,
   "id": "b3ce4408-c24d-4dec-8d4c-d07820774619",
   "metadata": {},
   "outputs": [
    {
     "name": "stdin",
     "output_type": "stream",
     "text": [
      "Enter password\n",
      " 4hf@jklhft78\n"
     ]
    },
    {
     "name": "stdout",
     "output_type": "stream",
     "text": [
      "Invalid  password1\n"
     ]
    }
   ],
   "source": [
    "a=input(\"Enter password\\n\")\n",
    "l1=[]\n",
    "l2=[]\n",
    "l3=[]\n",
    "l4=[]\n",
    "for i in a:\n",
    "    if i>='0' and i<='9':\n",
    "        l1.append(i)    \n",
    "    elif i.isupper():\n",
    "        l2.append(i)\n",
    "    elif i.islower():\n",
    "        l3.append(i)\n",
    "    else:\n",
    "        b='!\"#$%&()*+,-./:;<=>?@[\\]^_`{|}~'\n",
    "        for c in b:\n",
    "            if i==c:\n",
    "                l4.append(i)\n",
    "if  len(l1)>=1 and len(l2)>=2 and len(l3)>=2 and len(l4)>=3 and len(l1)+len(l2)+len(l3)+len(l4)<=10:\n",
    "    print(\"Valid password\")\n",
    "else:\n",
    "    print(\"Invalid  password1\")"
   ]
  },
  {
   "cell_type": "markdown",
   "id": "10f56e8b-f0de-4571-b6b3-cd4a60e6f357",
   "metadata": {},
   "source": [
    "Q2. Solve the below-given questions using at least one of the following:\n",
    "1. Lambda functioJ\n",
    "2. Filter functioJ\n",
    "3. Zap functioJ\n",
    "4. List ComprehensioI\n",
    "B Check if the string starts with a particular letterY\n",
    "B Check if the string is numericY\n",
    "B Sort a list of tuples having fruit names and their quantity. [(\"mango\",99),(\"orange\",80), (\"grapes\", 1000)-\n",
    "B Find the squares of numbers from 1 to 10Y\n",
    "B Find the cube root of numbers from 1 to 10Y\n",
    "B Check if a given number is evenY\n",
    "B Filter odd numbers from the given list.\n",
    "[1,2,3,4,5,6,7,8,9,10-\n",
    "B Sort a list of integers into positive and negative integers lists.\n",
    "[1,2,3,4,5,6,-1,-2,-3,-4,-5,0]"
   ]
  },
  {
   "cell_type": "code",
   "execution_count": 2,
   "id": "946c6ea6-c7bd-4b33-9de3-10474d13fb78",
   "metadata": {},
   "outputs": [
    {
     "data": {
      "text/plain": [
       "True"
      ]
     },
     "execution_count": 2,
     "metadata": {},
     "output_type": "execute_result"
    }
   ],
   "source": [
    "# B Check if the string starts with a particular letterY\n",
    "a=\"karun33\"\n",
    "a.startswith(\"k\")"
   ]
  },
  {
   "cell_type": "code",
   "execution_count": null,
   "id": "97f0d356-9a4e-4345-a745-0f428acd1d5f",
   "metadata": {},
   "outputs": [],
   "source": []
  }
 ],
 "metadata": {
  "kernelspec": {
   "display_name": "Python 3 (ipykernel)",
   "language": "python",
   "name": "python3"
  },
  "language_info": {
   "codemirror_mode": {
    "name": "ipython",
    "version": 3
   },
   "file_extension": ".py",
   "mimetype": "text/x-python",
   "name": "python",
   "nbconvert_exporter": "python",
   "pygments_lexer": "ipython3",
   "version": "3.10.8"
  }
 },
 "nbformat": 4,
 "nbformat_minor": 5
}
